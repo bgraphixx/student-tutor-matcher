{
 "cells": [
  {
   "cell_type": "markdown",
   "metadata": {
    "colab_type": "text",
    "id": "0MRC0e0KhQ0S"
   },
   "source": [
    "# Logistic Regression"
   ]
  },
  {
   "cell_type": "markdown",
   "metadata": {
    "colab_type": "text",
    "id": "LWd1UlMnhT2s"
   },
   "source": [
    "## Importing the libraries"
   ]
  },
  {
   "cell_type": "code",
   "execution_count": 10,
   "metadata": {
    "colab": {},
    "colab_type": "code",
    "id": "YvGPUQaHhXfL"
   },
   "outputs": [],
   "source": [
    "import numpy as np\n",
    "import matplotlib.pyplot as plt\n",
    "import pandas as pd\n",
    "from sklearn.preprocessing import LabelEncoder"
   ]
  },
  {
   "cell_type": "markdown",
   "metadata": {
    "colab_type": "text",
    "id": "K1VMqkGvhc3-"
   },
   "source": [
    "## Importing the dataset"
   ]
  },
  {
   "cell_type": "code",
   "execution_count": 11,
   "metadata": {
    "colab": {},
    "colab_type": "code",
    "id": "M52QDmyzhh9s"
   },
   "outputs": [],
   "source": [
    "dataset = pd.read_csv('Dataset.csv')\n",
    "#dataset = dataset.drop(\"studentid\",axis = 1)"
   ]
  },
  {
   "cell_type": "code",
   "execution_count": 12,
   "metadata": {},
   "outputs": [
    {
     "data": {
      "text/html": [
       "<div>\n",
       "<style scoped>\n",
       "    .dataframe tbody tr th:only-of-type {\n",
       "        vertical-align: middle;\n",
       "    }\n",
       "\n",
       "    .dataframe tbody tr th {\n",
       "        vertical-align: top;\n",
       "    }\n",
       "\n",
       "    .dataframe thead th {\n",
       "        text-align: right;\n",
       "    }\n",
       "</style>\n",
       "<table border=\"1\" class=\"dataframe\">\n",
       "  <thead>\n",
       "    <tr style=\"text-align: right;\">\n",
       "      <th></th>\n",
       "      <th>sex</th>\n",
       "      <th>age</th>\n",
       "      <th>Pstatus</th>\n",
       "      <th>guardian</th>\n",
       "      <th>higher</th>\n",
       "      <th>romantic</th>\n",
       "      <th>activities</th>\n",
       "      <th>Walc</th>\n",
       "      <th>failures</th>\n",
       "      <th>G1</th>\n",
       "      <th>G2</th>\n",
       "      <th>G3</th>\n",
       "      <th>Pass/Fail</th>\n",
       "    </tr>\n",
       "  </thead>\n",
       "  <tbody>\n",
       "    <tr>\n",
       "      <th>0</th>\n",
       "      <td>1</td>\n",
       "      <td>15.0</td>\n",
       "      <td>2</td>\n",
       "      <td>2</td>\n",
       "      <td>2</td>\n",
       "      <td>1</td>\n",
       "      <td>2</td>\n",
       "      <td>1</td>\n",
       "      <td>1</td>\n",
       "      <td>7.0</td>\n",
       "      <td>10.0</td>\n",
       "      <td>10.0</td>\n",
       "      <td>1</td>\n",
       "    </tr>\n",
       "    <tr>\n",
       "      <th>1</th>\n",
       "      <td>1</td>\n",
       "      <td>15.0</td>\n",
       "      <td>2</td>\n",
       "      <td>2</td>\n",
       "      <td>2</td>\n",
       "      <td>2</td>\n",
       "      <td>1</td>\n",
       "      <td>4</td>\n",
       "      <td>2</td>\n",
       "      <td>8.0</td>\n",
       "      <td>6.0</td>\n",
       "      <td>5.0</td>\n",
       "      <td>1</td>\n",
       "    </tr>\n",
       "    <tr>\n",
       "      <th>2</th>\n",
       "      <td>1</td>\n",
       "      <td>15.0</td>\n",
       "      <td>2</td>\n",
       "      <td>2</td>\n",
       "      <td>2</td>\n",
       "      <td>1</td>\n",
       "      <td>2</td>\n",
       "      <td>1</td>\n",
       "      <td>0</td>\n",
       "      <td>14.0</td>\n",
       "      <td>13.0</td>\n",
       "      <td>13.0</td>\n",
       "      <td>2</td>\n",
       "    </tr>\n",
       "    <tr>\n",
       "      <th>3</th>\n",
       "      <td>1</td>\n",
       "      <td>15.0</td>\n",
       "      <td>2</td>\n",
       "      <td>2</td>\n",
       "      <td>2</td>\n",
       "      <td>1</td>\n",
       "      <td>2</td>\n",
       "      <td>1</td>\n",
       "      <td>0</td>\n",
       "      <td>10.0</td>\n",
       "      <td>9.0</td>\n",
       "      <td>8.0</td>\n",
       "      <td>1</td>\n",
       "    </tr>\n",
       "    <tr>\n",
       "      <th>4</th>\n",
       "      <td>1</td>\n",
       "      <td>15.0</td>\n",
       "      <td>2</td>\n",
       "      <td>3</td>\n",
       "      <td>2</td>\n",
       "      <td>2</td>\n",
       "      <td>2</td>\n",
       "      <td>3</td>\n",
       "      <td>2</td>\n",
       "      <td>10.0</td>\n",
       "      <td>10.0</td>\n",
       "      <td>10.0</td>\n",
       "      <td>2</td>\n",
       "    </tr>\n",
       "  </tbody>\n",
       "</table>\n",
       "</div>"
      ],
      "text/plain": [
       "   sex   age  Pstatus  guardian  higher  romantic  activities  Walc  failures  \\\n",
       "0    1  15.0        2         2       2         1           2     1         1   \n",
       "1    1  15.0        2         2       2         2           1     4         2   \n",
       "2    1  15.0        2         2       2         1           2     1         0   \n",
       "3    1  15.0        2         2       2         1           2     1         0   \n",
       "4    1  15.0        2         3       2         2           2     3         2   \n",
       "\n",
       "     G1    G2    G3  Pass/Fail  \n",
       "0   7.0  10.0  10.0          1  \n",
       "1   8.0   6.0   5.0          1  \n",
       "2  14.0  13.0  13.0          2  \n",
       "3  10.0   9.0   8.0          1  \n",
       "4  10.0  10.0  10.0          2  "
      ]
     },
     "execution_count": 12,
     "metadata": {},
     "output_type": "execute_result"
    }
   ],
   "source": [
    "dataset.head()"
   ]
  },
  {
   "cell_type": "code",
   "execution_count": 13,
   "metadata": {},
   "outputs": [
    {
     "name": "stdout",
     "output_type": "stream",
     "text": [
      "<class 'pandas.core.frame.DataFrame'>\n",
      "RangeIndex: 395 entries, 0 to 394\n",
      "Data columns (total 13 columns):\n",
      " #   Column      Non-Null Count  Dtype  \n",
      "---  ------      --------------  -----  \n",
      " 0   sex         395 non-null    int64  \n",
      " 1   age         395 non-null    float64\n",
      " 2   Pstatus     395 non-null    int64  \n",
      " 3   guardian    395 non-null    int64  \n",
      " 4   higher      395 non-null    int64  \n",
      " 5   romantic    395 non-null    int64  \n",
      " 6   activities  395 non-null    int64  \n",
      " 7   Walc        395 non-null    int64  \n",
      " 8   failures    395 non-null    int64  \n",
      " 9   G1          395 non-null    float64\n",
      " 10  G2          395 non-null    float64\n",
      " 11  G3          395 non-null    float64\n",
      " 12  Pass/Fail   395 non-null    int64  \n",
      "dtypes: float64(4), int64(9)\n",
      "memory usage: 40.2 KB\n"
     ]
    }
   ],
   "source": [
    "dataset.info()"
   ]
  },
  {
   "cell_type": "code",
   "execution_count": 14,
   "metadata": {
    "scrolled": true
   },
   "outputs": [
    {
     "data": {
      "text/html": [
       "<div>\n",
       "<style scoped>\n",
       "    .dataframe tbody tr th:only-of-type {\n",
       "        vertical-align: middle;\n",
       "    }\n",
       "\n",
       "    .dataframe tbody tr th {\n",
       "        vertical-align: top;\n",
       "    }\n",
       "\n",
       "    .dataframe thead th {\n",
       "        text-align: right;\n",
       "    }\n",
       "</style>\n",
       "<table border=\"1\" class=\"dataframe\">\n",
       "  <thead>\n",
       "    <tr style=\"text-align: right;\">\n",
       "      <th></th>\n",
       "      <th>sex</th>\n",
       "      <th>age</th>\n",
       "      <th>Pstatus</th>\n",
       "      <th>guardian</th>\n",
       "      <th>higher</th>\n",
       "      <th>romantic</th>\n",
       "      <th>activities</th>\n",
       "      <th>Walc</th>\n",
       "      <th>failures</th>\n",
       "      <th>G1</th>\n",
       "      <th>G2</th>\n",
       "      <th>G3</th>\n",
       "      <th>Pass/Fail</th>\n",
       "    </tr>\n",
       "  </thead>\n",
       "  <tbody>\n",
       "    <tr>\n",
       "      <th>count</th>\n",
       "      <td>395.000000</td>\n",
       "      <td>395.000000</td>\n",
       "      <td>395.000000</td>\n",
       "      <td>395.000000</td>\n",
       "      <td>395.000000</td>\n",
       "      <td>395.000000</td>\n",
       "      <td>395.000000</td>\n",
       "      <td>395.000000</td>\n",
       "      <td>395.000000</td>\n",
       "      <td>395.000000</td>\n",
       "      <td>395.000000</td>\n",
       "      <td>395.000000</td>\n",
       "      <td>395.00000</td>\n",
       "    </tr>\n",
       "    <tr>\n",
       "      <th>mean</th>\n",
       "      <td>1.473418</td>\n",
       "      <td>16.696203</td>\n",
       "      <td>1.896203</td>\n",
       "      <td>1.853165</td>\n",
       "      <td>1.949367</td>\n",
       "      <td>1.334177</td>\n",
       "      <td>1.508861</td>\n",
       "      <td>2.291139</td>\n",
       "      <td>0.334177</td>\n",
       "      <td>10.908861</td>\n",
       "      <td>10.713924</td>\n",
       "      <td>10.415190</td>\n",
       "      <td>1.58481</td>\n",
       "    </tr>\n",
       "    <tr>\n",
       "      <th>std</th>\n",
       "      <td>0.499926</td>\n",
       "      <td>1.276043</td>\n",
       "      <td>0.305384</td>\n",
       "      <td>0.536684</td>\n",
       "      <td>0.219525</td>\n",
       "      <td>0.472300</td>\n",
       "      <td>0.500555</td>\n",
       "      <td>1.287897</td>\n",
       "      <td>0.743651</td>\n",
       "      <td>3.319195</td>\n",
       "      <td>3.761505</td>\n",
       "      <td>4.581443</td>\n",
       "      <td>0.49338</td>\n",
       "    </tr>\n",
       "    <tr>\n",
       "      <th>min</th>\n",
       "      <td>1.000000</td>\n",
       "      <td>15.000000</td>\n",
       "      <td>1.000000</td>\n",
       "      <td>1.000000</td>\n",
       "      <td>1.000000</td>\n",
       "      <td>1.000000</td>\n",
       "      <td>1.000000</td>\n",
       "      <td>1.000000</td>\n",
       "      <td>0.000000</td>\n",
       "      <td>3.000000</td>\n",
       "      <td>0.000000</td>\n",
       "      <td>0.000000</td>\n",
       "      <td>1.00000</td>\n",
       "    </tr>\n",
       "    <tr>\n",
       "      <th>25%</th>\n",
       "      <td>1.000000</td>\n",
       "      <td>16.000000</td>\n",
       "      <td>2.000000</td>\n",
       "      <td>2.000000</td>\n",
       "      <td>2.000000</td>\n",
       "      <td>1.000000</td>\n",
       "      <td>1.000000</td>\n",
       "      <td>1.000000</td>\n",
       "      <td>0.000000</td>\n",
       "      <td>8.000000</td>\n",
       "      <td>9.000000</td>\n",
       "      <td>8.000000</td>\n",
       "      <td>1.00000</td>\n",
       "    </tr>\n",
       "    <tr>\n",
       "      <th>50%</th>\n",
       "      <td>1.000000</td>\n",
       "      <td>17.000000</td>\n",
       "      <td>2.000000</td>\n",
       "      <td>2.000000</td>\n",
       "      <td>2.000000</td>\n",
       "      <td>1.000000</td>\n",
       "      <td>2.000000</td>\n",
       "      <td>2.000000</td>\n",
       "      <td>0.000000</td>\n",
       "      <td>11.000000</td>\n",
       "      <td>11.000000</td>\n",
       "      <td>11.000000</td>\n",
       "      <td>2.00000</td>\n",
       "    </tr>\n",
       "    <tr>\n",
       "      <th>75%</th>\n",
       "      <td>2.000000</td>\n",
       "      <td>18.000000</td>\n",
       "      <td>2.000000</td>\n",
       "      <td>2.000000</td>\n",
       "      <td>2.000000</td>\n",
       "      <td>2.000000</td>\n",
       "      <td>2.000000</td>\n",
       "      <td>3.000000</td>\n",
       "      <td>0.000000</td>\n",
       "      <td>13.000000</td>\n",
       "      <td>13.000000</td>\n",
       "      <td>14.000000</td>\n",
       "      <td>2.00000</td>\n",
       "    </tr>\n",
       "    <tr>\n",
       "      <th>max</th>\n",
       "      <td>2.000000</td>\n",
       "      <td>22.000000</td>\n",
       "      <td>2.000000</td>\n",
       "      <td>3.000000</td>\n",
       "      <td>2.000000</td>\n",
       "      <td>2.000000</td>\n",
       "      <td>2.000000</td>\n",
       "      <td>5.000000</td>\n",
       "      <td>3.000000</td>\n",
       "      <td>19.000000</td>\n",
       "      <td>19.000000</td>\n",
       "      <td>20.000000</td>\n",
       "      <td>2.00000</td>\n",
       "    </tr>\n",
       "  </tbody>\n",
       "</table>\n",
       "</div>"
      ],
      "text/plain": [
       "              sex         age     Pstatus    guardian      higher    romantic  \\\n",
       "count  395.000000  395.000000  395.000000  395.000000  395.000000  395.000000   \n",
       "mean     1.473418   16.696203    1.896203    1.853165    1.949367    1.334177   \n",
       "std      0.499926    1.276043    0.305384    0.536684    0.219525    0.472300   \n",
       "min      1.000000   15.000000    1.000000    1.000000    1.000000    1.000000   \n",
       "25%      1.000000   16.000000    2.000000    2.000000    2.000000    1.000000   \n",
       "50%      1.000000   17.000000    2.000000    2.000000    2.000000    1.000000   \n",
       "75%      2.000000   18.000000    2.000000    2.000000    2.000000    2.000000   \n",
       "max      2.000000   22.000000    2.000000    3.000000    2.000000    2.000000   \n",
       "\n",
       "       activities        Walc    failures          G1          G2          G3  \\\n",
       "count  395.000000  395.000000  395.000000  395.000000  395.000000  395.000000   \n",
       "mean     1.508861    2.291139    0.334177   10.908861   10.713924   10.415190   \n",
       "std      0.500555    1.287897    0.743651    3.319195    3.761505    4.581443   \n",
       "min      1.000000    1.000000    0.000000    3.000000    0.000000    0.000000   \n",
       "25%      1.000000    1.000000    0.000000    8.000000    9.000000    8.000000   \n",
       "50%      2.000000    2.000000    0.000000   11.000000   11.000000   11.000000   \n",
       "75%      2.000000    3.000000    0.000000   13.000000   13.000000   14.000000   \n",
       "max      2.000000    5.000000    3.000000   19.000000   19.000000   20.000000   \n",
       "\n",
       "       Pass/Fail  \n",
       "count  395.00000  \n",
       "mean     1.58481  \n",
       "std      0.49338  \n",
       "min      1.00000  \n",
       "25%      1.00000  \n",
       "50%      2.00000  \n",
       "75%      2.00000  \n",
       "max      2.00000  "
      ]
     },
     "execution_count": 14,
     "metadata": {},
     "output_type": "execute_result"
    }
   ],
   "source": [
    "dataset.describe()"
   ]
  },
  {
   "cell_type": "code",
   "execution_count": 15,
   "metadata": {},
   "outputs": [
    {
     "data": {
      "text/html": [
       "<div>\n",
       "<style scoped>\n",
       "    .dataframe tbody tr th:only-of-type {\n",
       "        vertical-align: middle;\n",
       "    }\n",
       "\n",
       "    .dataframe tbody tr th {\n",
       "        vertical-align: top;\n",
       "    }\n",
       "\n",
       "    .dataframe thead th {\n",
       "        text-align: right;\n",
       "    }\n",
       "</style>\n",
       "<table border=\"1\" class=\"dataframe\">\n",
       "  <thead>\n",
       "    <tr style=\"text-align: right;\">\n",
       "      <th></th>\n",
       "      <th>sex</th>\n",
       "      <th>age</th>\n",
       "      <th>Pstatus</th>\n",
       "      <th>guardian</th>\n",
       "      <th>higher</th>\n",
       "      <th>romantic</th>\n",
       "      <th>activities</th>\n",
       "      <th>Walc</th>\n",
       "      <th>failures</th>\n",
       "      <th>G1</th>\n",
       "      <th>G2</th>\n",
       "      <th>G3</th>\n",
       "      <th>Pass/Fail</th>\n",
       "    </tr>\n",
       "  </thead>\n",
       "  <tbody>\n",
       "    <tr>\n",
       "      <th>sex</th>\n",
       "      <td>1.000000</td>\n",
       "      <td>-0.028606</td>\n",
       "      <td>0.023443</td>\n",
       "      <td>-0.071343</td>\n",
       "      <td>-0.151056</td>\n",
       "      <td>-0.102023</td>\n",
       "      <td>0.099833</td>\n",
       "      <td>0.274194</td>\n",
       "      <td>0.044436</td>\n",
       "      <td>0.091839</td>\n",
       "      <td>0.091099</td>\n",
       "      <td>0.103456</td>\n",
       "      <td>0.119781</td>\n",
       "    </tr>\n",
       "    <tr>\n",
       "      <th>age</th>\n",
       "      <td>-0.028606</td>\n",
       "      <td>1.000000</td>\n",
       "      <td>0.029598</td>\n",
       "      <td>0.290485</td>\n",
       "      <td>-0.209081</td>\n",
       "      <td>0.164669</td>\n",
       "      <td>-0.103063</td>\n",
       "      <td>0.117276</td>\n",
       "      <td>0.243665</td>\n",
       "      <td>-0.064081</td>\n",
       "      <td>-0.143474</td>\n",
       "      <td>-0.161579</td>\n",
       "      <td>-0.120228</td>\n",
       "    </tr>\n",
       "    <tr>\n",
       "      <th>Pstatus</th>\n",
       "      <td>0.023443</td>\n",
       "      <td>0.029598</td>\n",
       "      <td>1.000000</td>\n",
       "      <td>-0.108715</td>\n",
       "      <td>-0.040735</td>\n",
       "      <td>-0.040451</td>\n",
       "      <td>0.097352</td>\n",
       "      <td>0.006045</td>\n",
       "      <td>-0.003339</td>\n",
       "      <td>-0.016868</td>\n",
       "      <td>-0.041382</td>\n",
       "      <td>-0.058009</td>\n",
       "      <td>-0.034074</td>\n",
       "    </tr>\n",
       "    <tr>\n",
       "      <th>guardian</th>\n",
       "      <td>-0.071343</td>\n",
       "      <td>0.290485</td>\n",
       "      <td>-0.108715</td>\n",
       "      <td>1.000000</td>\n",
       "      <td>-0.020179</td>\n",
       "      <td>0.093945</td>\n",
       "      <td>-0.023488</td>\n",
       "      <td>-0.040810</td>\n",
       "      <td>0.180494</td>\n",
       "      <td>-0.041727</td>\n",
       "      <td>-0.087495</td>\n",
       "      <td>-0.070109</td>\n",
       "      <td>-0.077459</td>\n",
       "    </tr>\n",
       "    <tr>\n",
       "      <th>higher</th>\n",
       "      <td>-0.151056</td>\n",
       "      <td>-0.209081</td>\n",
       "      <td>-0.040735</td>\n",
       "      <td>-0.020179</td>\n",
       "      <td>1.000000</td>\n",
       "      <td>-0.105664</td>\n",
       "      <td>0.096484</td>\n",
       "      <td>-0.100340</td>\n",
       "      <td>-0.300316</td>\n",
       "      <td>0.178264</td>\n",
       "      <td>0.179129</td>\n",
       "      <td>0.182465</td>\n",
       "      <td>0.133482</td>\n",
       "    </tr>\n",
       "    <tr>\n",
       "      <th>romantic</th>\n",
       "      <td>-0.102023</td>\n",
       "      <td>0.164669</td>\n",
       "      <td>-0.040451</td>\n",
       "      <td>0.093945</td>\n",
       "      <td>-0.105664</td>\n",
       "      <td>1.000000</td>\n",
       "      <td>0.019651</td>\n",
       "      <td>-0.010141</td>\n",
       "      <td>0.093137</td>\n",
       "      <td>-0.037188</td>\n",
       "      <td>-0.111774</td>\n",
       "      <td>-0.129970</td>\n",
       "      <td>-0.045691</td>\n",
       "    </tr>\n",
       "    <tr>\n",
       "      <th>activities</th>\n",
       "      <td>0.099833</td>\n",
       "      <td>-0.103063</td>\n",
       "      <td>0.097352</td>\n",
       "      <td>-0.023488</td>\n",
       "      <td>0.096484</td>\n",
       "      <td>0.019651</td>\n",
       "      <td>1.000000</td>\n",
       "      <td>-0.037477</td>\n",
       "      <td>-0.069341</td>\n",
       "      <td>0.057010</td>\n",
       "      <td>0.050552</td>\n",
       "      <td>0.016100</td>\n",
       "      <td>-0.005620</td>\n",
       "    </tr>\n",
       "    <tr>\n",
       "      <th>Walc</th>\n",
       "      <td>0.274194</td>\n",
       "      <td>0.117276</td>\n",
       "      <td>0.006045</td>\n",
       "      <td>-0.040810</td>\n",
       "      <td>-0.100340</td>\n",
       "      <td>-0.010141</td>\n",
       "      <td>-0.037477</td>\n",
       "      <td>1.000000</td>\n",
       "      <td>0.141962</td>\n",
       "      <td>-0.126179</td>\n",
       "      <td>-0.084927</td>\n",
       "      <td>-0.051939</td>\n",
       "      <td>-0.088886</td>\n",
       "    </tr>\n",
       "    <tr>\n",
       "      <th>failures</th>\n",
       "      <td>0.044436</td>\n",
       "      <td>0.243665</td>\n",
       "      <td>-0.003339</td>\n",
       "      <td>0.180494</td>\n",
       "      <td>-0.300316</td>\n",
       "      <td>0.093137</td>\n",
       "      <td>-0.069341</td>\n",
       "      <td>0.141962</td>\n",
       "      <td>1.000000</td>\n",
       "      <td>-0.354718</td>\n",
       "      <td>-0.355896</td>\n",
       "      <td>-0.360415</td>\n",
       "      <td>-0.347227</td>\n",
       "    </tr>\n",
       "    <tr>\n",
       "      <th>G1</th>\n",
       "      <td>0.091839</td>\n",
       "      <td>-0.064081</td>\n",
       "      <td>-0.016868</td>\n",
       "      <td>-0.041727</td>\n",
       "      <td>0.178264</td>\n",
       "      <td>-0.037188</td>\n",
       "      <td>0.057010</td>\n",
       "      <td>-0.126179</td>\n",
       "      <td>-0.354718</td>\n",
       "      <td>1.000000</td>\n",
       "      <td>0.852118</td>\n",
       "      <td>0.801468</td>\n",
       "      <td>0.778107</td>\n",
       "    </tr>\n",
       "    <tr>\n",
       "      <th>G2</th>\n",
       "      <td>0.091099</td>\n",
       "      <td>-0.143474</td>\n",
       "      <td>-0.041382</td>\n",
       "      <td>-0.087495</td>\n",
       "      <td>0.179129</td>\n",
       "      <td>-0.111774</td>\n",
       "      <td>0.050552</td>\n",
       "      <td>-0.084927</td>\n",
       "      <td>-0.355896</td>\n",
       "      <td>0.852118</td>\n",
       "      <td>1.000000</td>\n",
       "      <td>0.904868</td>\n",
       "      <td>0.763238</td>\n",
       "    </tr>\n",
       "    <tr>\n",
       "      <th>G3</th>\n",
       "      <td>0.103456</td>\n",
       "      <td>-0.161579</td>\n",
       "      <td>-0.058009</td>\n",
       "      <td>-0.070109</td>\n",
       "      <td>0.182465</td>\n",
       "      <td>-0.129970</td>\n",
       "      <td>0.016100</td>\n",
       "      <td>-0.051939</td>\n",
       "      <td>-0.360415</td>\n",
       "      <td>0.801468</td>\n",
       "      <td>0.904868</td>\n",
       "      <td>1.000000</td>\n",
       "      <td>0.743427</td>\n",
       "    </tr>\n",
       "    <tr>\n",
       "      <th>Pass/Fail</th>\n",
       "      <td>0.119781</td>\n",
       "      <td>-0.120228</td>\n",
       "      <td>-0.034074</td>\n",
       "      <td>-0.077459</td>\n",
       "      <td>0.133482</td>\n",
       "      <td>-0.045691</td>\n",
       "      <td>-0.005620</td>\n",
       "      <td>-0.088886</td>\n",
       "      <td>-0.347227</td>\n",
       "      <td>0.778107</td>\n",
       "      <td>0.763238</td>\n",
       "      <td>0.743427</td>\n",
       "      <td>1.000000</td>\n",
       "    </tr>\n",
       "  </tbody>\n",
       "</table>\n",
       "</div>"
      ],
      "text/plain": [
       "                 sex       age   Pstatus  guardian    higher  romantic  \\\n",
       "sex         1.000000 -0.028606  0.023443 -0.071343 -0.151056 -0.102023   \n",
       "age        -0.028606  1.000000  0.029598  0.290485 -0.209081  0.164669   \n",
       "Pstatus     0.023443  0.029598  1.000000 -0.108715 -0.040735 -0.040451   \n",
       "guardian   -0.071343  0.290485 -0.108715  1.000000 -0.020179  0.093945   \n",
       "higher     -0.151056 -0.209081 -0.040735 -0.020179  1.000000 -0.105664   \n",
       "romantic   -0.102023  0.164669 -0.040451  0.093945 -0.105664  1.000000   \n",
       "activities  0.099833 -0.103063  0.097352 -0.023488  0.096484  0.019651   \n",
       "Walc        0.274194  0.117276  0.006045 -0.040810 -0.100340 -0.010141   \n",
       "failures    0.044436  0.243665 -0.003339  0.180494 -0.300316  0.093137   \n",
       "G1          0.091839 -0.064081 -0.016868 -0.041727  0.178264 -0.037188   \n",
       "G2          0.091099 -0.143474 -0.041382 -0.087495  0.179129 -0.111774   \n",
       "G3          0.103456 -0.161579 -0.058009 -0.070109  0.182465 -0.129970   \n",
       "Pass/Fail   0.119781 -0.120228 -0.034074 -0.077459  0.133482 -0.045691   \n",
       "\n",
       "            activities      Walc  failures        G1        G2        G3  \\\n",
       "sex           0.099833  0.274194  0.044436  0.091839  0.091099  0.103456   \n",
       "age          -0.103063  0.117276  0.243665 -0.064081 -0.143474 -0.161579   \n",
       "Pstatus       0.097352  0.006045 -0.003339 -0.016868 -0.041382 -0.058009   \n",
       "guardian     -0.023488 -0.040810  0.180494 -0.041727 -0.087495 -0.070109   \n",
       "higher        0.096484 -0.100340 -0.300316  0.178264  0.179129  0.182465   \n",
       "romantic      0.019651 -0.010141  0.093137 -0.037188 -0.111774 -0.129970   \n",
       "activities    1.000000 -0.037477 -0.069341  0.057010  0.050552  0.016100   \n",
       "Walc         -0.037477  1.000000  0.141962 -0.126179 -0.084927 -0.051939   \n",
       "failures     -0.069341  0.141962  1.000000 -0.354718 -0.355896 -0.360415   \n",
       "G1            0.057010 -0.126179 -0.354718  1.000000  0.852118  0.801468   \n",
       "G2            0.050552 -0.084927 -0.355896  0.852118  1.000000  0.904868   \n",
       "G3            0.016100 -0.051939 -0.360415  0.801468  0.904868  1.000000   \n",
       "Pass/Fail    -0.005620 -0.088886 -0.347227  0.778107  0.763238  0.743427   \n",
       "\n",
       "            Pass/Fail  \n",
       "sex          0.119781  \n",
       "age         -0.120228  \n",
       "Pstatus     -0.034074  \n",
       "guardian    -0.077459  \n",
       "higher       0.133482  \n",
       "romantic    -0.045691  \n",
       "activities  -0.005620  \n",
       "Walc        -0.088886  \n",
       "failures    -0.347227  \n",
       "G1           0.778107  \n",
       "G2           0.763238  \n",
       "G3           0.743427  \n",
       "Pass/Fail    1.000000  "
      ]
     },
     "execution_count": 15,
     "metadata": {},
     "output_type": "execute_result"
    }
   ],
   "source": [
    "dataset.corr()"
   ]
  },
  {
   "cell_type": "code",
   "execution_count": 16,
   "metadata": {},
   "outputs": [
    {
     "data": {
      "text/plain": [
       "array([[<AxesSubplot:title={'center':'sex'}>,\n",
       "        <AxesSubplot:title={'center':'age'}>,\n",
       "        <AxesSubplot:title={'center':'Pstatus'}>,\n",
       "        <AxesSubplot:title={'center':'guardian'}>],\n",
       "       [<AxesSubplot:title={'center':'higher'}>,\n",
       "        <AxesSubplot:title={'center':'romantic'}>,\n",
       "        <AxesSubplot:title={'center':'activities'}>,\n",
       "        <AxesSubplot:title={'center':'Walc'}>],\n",
       "       [<AxesSubplot:title={'center':'failures'}>,\n",
       "        <AxesSubplot:title={'center':'G1'}>,\n",
       "        <AxesSubplot:title={'center':'G2'}>,\n",
       "        <AxesSubplot:title={'center':'G3'}>],\n",
       "       [<AxesSubplot:title={'center':'Pass/Fail'}>, <AxesSubplot:>,\n",
       "        <AxesSubplot:>, <AxesSubplot:>]], dtype=object)"
      ]
     },
     "execution_count": 16,
     "metadata": {},
     "output_type": "execute_result"
    },
    {
     "data": {
      "image/png": "[encoded data removed]",
      "text/plain": [
       "<Figure size 1440x1440 with 16 Axes>"
      ]
     },
     "metadata": {
      "needs_background": "light"
     },
     "output_type": "display_data"
    }
   ],
   "source": [
    "dataset.hist(figsize = (20,20))"
   ]
  },
  {
   "cell_type": "code",
   "execution_count": 17,
   "metadata": {},
   "outputs": [],
   "source": [
    "X = dataset.iloc[:, :-1].values\n",
    "y = dataset.iloc[:, -1].values"
   ]
  },
  {
   "cell_type": "markdown",
   "metadata": {
    "colab_type": "text",
    "id": "YvxIPVyMhmKp"
   },
   "source": [
    "## Splitting the dataset into the Training set and Test set"
   ]
  },
  {
   "cell_type": "code",
   "execution_count": 18,
   "metadata": {
    "colab": {},
    "colab_type": "code",
    "id": "AVzJWAXIhxoC"
   },
   "outputs": [],
   "source": [
    "from sklearn.model_selection import train_test_split\n",
    "X_train, X_test, y_train, y_test = train_test_split(X, y, test_size = 0.40, random_state = 0)"
   ]
  },
  {
   "cell_type": "code",
   "execution_count": 19,
   "metadata": {
    "colab": {
     "base_uri": "https://localhost:8080/",
     "height": 1000
    },
    "colab_type": "code",
    "executionInfo": {
     "elapsed": 2163,
     "status": "ok",
     "timestamp": 1588265315502,
     "user": {
      "displayName": "Hadelin de Ponteves",
      "photoUrl": "https://lh3.googleusercontent.com/a-/AOh14GhEuXdT7eQweUmRPW8_laJuPggSK6hfvpl5a6WBaA=s64",
      "userId": "15047218817161520419"
     },
     "user_tz": -240
    },
    "id": "P3nS3-6r1i2B",
    "outputId": "75d6e0cf-d13b-42cf-a353-888682415d37"
   },
   "outputs": [
    {
     "name": "stdout",
     "output_type": "stream",
     "text": [
      "[[ 1. 20.  2. ... 15. 14. 15.]\n",
      " [ 1. 15.  2. ...  7.  8. 10.]\n",
      " [ 2. 18.  2. ...  6.  9.  8.]\n",
      " ...\n",
      " [ 1. 17.  2. ... 16. 17. 17.]\n",
      " [ 1. 16.  2. ... 10.  8. 11.]\n",
      " [ 1. 19.  2. ... 13. 11. 11.]]\n"
     ]
    }
   ],
   "source": [
    "print(X_train)"
   ]
  },
  {
   "cell_type": "code",
   "execution_count": 20,
   "metadata": {
    "colab": {
     "base_uri": "https://localhost:8080/",
     "height": 171
    },
    "colab_type": "code",
    "executionInfo": {
     "elapsed": 2158,
     "status": "ok",
     "timestamp": 1588265315502,
     "user": {
      "displayName": "Hadelin de Ponteves",
      "photoUrl": "https://lh3.googleusercontent.com/a-/AOh14GhEuXdT7eQweUmRPW8_laJuPggSK6hfvpl5a6WBaA=s64",
      "userId": "15047218817161520419"
     },
     "user_tz": -240
    },
    "id": "8dpDLojm1mVG",
    "outputId": "7ae11087-76ab-4027-c94e-9eb18f7573bf"
   },
   "outputs": [
    {
     "name": "stdout",
     "output_type": "stream",
     "text": [
      "[2 1 1 2 2 1 2 1 2 2 2 1 1 2 2 2 2 2 2 2 2 2 2 2 2 1 2 1 2 2 2 1 1 2 2 2 1\n",
      " 2 1 1 1 1 1 1 2 1 1 2 2 2 2 1 2 2 2 1 2 2 2 2 1 2 2 2 2 1 1 1 2 1 2 1 2 1\n",
      " 2 2 1 1 1 2 1 2 2 2 1 2 1 2 1 2 2 2 2 2 2 2 2 2 2 1 1 2 1 1 1 2 2 1 1 2 2\n",
      " 2 2 2 1 1 1 2 2 2 2 2 1 2 2 2 1 2 1 1 2 1 2 2 2 2 1 1 2 1 1 2 1 2 1 1 1 2\n",
      " 2 2 1 1 1 1 2 2 1 2 1 2 1 2 2 1 1 2 2 1 1 1 2 1 1 2 2 1 2 2 1 2 1 2 1 2 1\n",
      " 2 1 1 1 1 2 2 2 1 2 1 1 2 1 2 1 2 1 2 2 1 2 2 1 1 1 2 1 2 1 1 2 1 1 1 2 2\n",
      " 2 1 1 2 2 2 2 2 2 2 1 2 2 1 2]\n"
     ]
    }
   ],
   "source": [
    "print(y_train)"
   ]
  },
  {
   "cell_type": "code",
   "execution_count": 21,
   "metadata": {
    "colab": {
     "base_uri": "https://localhost:8080/",
     "height": 1000
    },
    "colab_type": "code",
    "executionInfo": {
     "elapsed": 2154,
     "status": "ok",
     "timestamp": 1588265315503,
     "user": {
      "displayName": "Hadelin de Ponteves",
      "photoUrl": "https://lh3.googleusercontent.com/a-/AOh14GhEuXdT7eQweUmRPW8_laJuPggSK6hfvpl5a6WBaA=s64",
      "userId": "15047218817161520419"
     },
     "user_tz": -240
    },
    "id": "qbb7i0DH1qui",
    "outputId": "94e717d7-fa9a-4e22-9c68-d43421cbfb92"
   },
   "outputs": [
    {
     "name": "stdout",
     "output_type": "stream",
     "text": [
      "[[ 2. 18.  2. ... 10. 10.  9.]\n",
      " [ 2. 18.  2. ...  3.  5.  5.]\n",
      " [ 2. 18.  2. ... 14. 13. 14.]\n",
      " ...\n",
      " [ 2. 18.  2. ... 11. 12. 10.]\n",
      " [ 1. 17.  2. ... 16. 15. 15.]\n",
      " [ 1. 15.  1. ...  8.  8.  6.]]\n"
     ]
    }
   ],
   "source": [
    "print(X_test)"
   ]
  },
  {
   "cell_type": "code",
   "execution_count": 22,
   "metadata": {
    "colab": {
     "base_uri": "https://localhost:8080/",
     "height": 68
    },
    "colab_type": "code",
    "executionInfo": {
     "elapsed": 2149,
     "status": "ok",
     "timestamp": 1588265315503,
     "user": {
      "displayName": "Hadelin de Ponteves",
      "photoUrl": "https://lh3.googleusercontent.com/a-/AOh14GhEuXdT7eQweUmRPW8_laJuPggSK6hfvpl5a6WBaA=s64",
      "userId": "15047218817161520419"
     },
     "user_tz": -240
    },
    "id": "kj1hnFAR1s5w",
    "outputId": "ec9924c4-6d8a-4f20-dbf9-272fbaa24f92"
   },
   "outputs": [
    {
     "name": "stdout",
     "output_type": "stream",
     "text": [
      "[1 1 2 2 2 1 2 1 1 1 2 2 2 1 1 1 2 1 2 2 1 1 2 2 2 2 2 2 2 2 1 2 2 2 2 1 2\n",
      " 2 2 1 1 2 1 2 2 2 2 2 2 2 2 1 1 2 1 2 2 2 2 2 1 1 2 2 2 2 2 2 1 1 2 1 2 1\n",
      " 1 2 1 2 1 1 2 1 1 2 2 2 2 1 2 2 2 1 2 2 2 1 2 1 2 1 2 1 2 2 2 1 2 1 2 1 1\n",
      " 1 2 1 2 2 2 2 2 2 2 1 2 2 1 2 1 2 2 2 1 2 1 1 1 1 1 2 1 2 1 2 1 2 2 1 2 1\n",
      " 1 2 1 2 2 1 1 2 2 1]\n"
     ]
    }
   ],
   "source": [
    "print(y_test)"
   ]
  },
  {
   "cell_type": "markdown",
   "metadata": {
    "colab_type": "text",
    "id": "kW3c7UYih0hT"
   },
   "source": [
    "## Feature Scaling"
   ]
  },
  {
   "cell_type": "code",
   "execution_count": 23,
   "metadata": {
    "colab": {},
    "colab_type": "code",
    "id": "9fQlDPKCh8sc"
   },
   "outputs": [],
   "source": [
    "from sklearn.preprocessing import StandardScaler\n",
    "sc = StandardScaler()\n",
    "X_train = sc.fit_transform(X_train)\n",
    "X_test = sc.transform(X_test)"
   ]
  },
  {
   "cell_type": "code",
   "execution_count": 24,
   "metadata": {
    "colab": {
     "base_uri": "https://localhost:8080/",
     "height": 1000
    },
    "colab_type": "code",
    "executionInfo": {
     "elapsed": 2139,
     "status": "ok",
     "timestamp": 1588265315503,
     "user": {
      "displayName": "Hadelin de Ponteves",
      "photoUrl": "https://lh3.googleusercontent.com/a-/AOh14GhEuXdT7eQweUmRPW8_laJuPggSK6hfvpl5a6WBaA=s64",
      "userId": "15047218817161520419"
     },
     "user_tz": -240
    },
    "id": "syrnD1Op2BSR",
    "outputId": "711172c9-25a5-4c03-e835-6ab94766bdc0"
   },
   "outputs": [
    {
     "name": "stdout",
     "output_type": "stream",
     "text": [
      "[[-0.96271972  2.56792186  0.33567254 ...  1.38816793  0.99527812\n",
      "   1.09456981]\n",
      " [-0.96271972 -1.28884291  0.33567254 ... -1.14256899 -0.68758215\n",
      "  -0.04721296]\n",
      " [ 1.03872391  1.02521595  0.33567254 ... -1.45891111 -0.40710544\n",
      "  -0.50392606]\n",
      " ...\n",
      " [-0.96271972  0.253863    0.33567254 ...  1.70451005  1.83670826\n",
      "   1.55128291]\n",
      " [-0.96271972 -0.51748996  0.33567254 ... -0.19354264 -0.68758215\n",
      "   0.18114359]\n",
      " [-0.96271972  1.79656891  0.33567254 ...  0.7554837   0.15384799\n",
      "   0.18114359]]\n"
     ]
    }
   ],
   "source": [
    "print(X_train)"
   ]
  },
  {
   "cell_type": "code",
   "execution_count": 25,
   "metadata": {
    "colab": {
     "base_uri": "https://localhost:8080/",
     "height": 1000
    },
    "colab_type": "code",
    "executionInfo": {
     "elapsed": 2133,
     "status": "ok",
     "timestamp": 1588265315504,
     "user": {
      "displayName": "Hadelin de Ponteves",
      "photoUrl": "https://lh3.googleusercontent.com/a-/AOh14GhEuXdT7eQweUmRPW8_laJuPggSK6hfvpl5a6WBaA=s64",
      "userId": "15047218817161520419"
     },
     "user_tz": -240
    },
    "id": "JUd6iBRp2C3L",
    "outputId": "3ed7b1f1-8fb7-48bc-8df8-39b6f65081ae"
   },
   "outputs": [
    {
     "name": "stdout",
     "output_type": "stream",
     "text": [
      "[[ 1.03872391  1.02521595  0.33567254 ... -0.19354264 -0.12662873\n",
      "  -0.27556951]\n",
      " [ 1.03872391  1.02521595  0.33567254 ... -2.40793745 -1.52901228\n",
      "  -1.18899572]\n",
      " [ 1.03872391  1.02521595  0.33567254 ...  1.07182582  0.71480141\n",
      "   0.86621325]\n",
      " ...\n",
      " [ 1.03872391  1.02521595  0.33567254 ...  0.12279947  0.4343247\n",
      "  -0.04721296]\n",
      " [-0.96271972  0.253863    0.33567254 ...  1.70451005  1.27575483\n",
      "   1.09456981]\n",
      " [-0.96271972 -1.28884291 -2.97909382 ... -0.82622688 -0.68758215\n",
      "  -0.96063917]]\n"
     ]
    }
   ],
   "source": [
    "print(X_test)"
   ]
  },
  {
   "cell_type": "markdown",
   "metadata": {
    "colab_type": "text",
    "id": "bb6jCOCQiAmP"
   },
   "source": [
    "## Training the Logistic Regression model on the Training set"
   ]
  },
  {
   "cell_type": "code",
   "execution_count": 26,
   "metadata": {
    "colab": {
     "base_uri": "https://localhost:8080/",
     "height": 103
    },
    "colab_type": "code",
    "executionInfo": {
     "elapsed": 2125,
     "status": "ok",
     "timestamp": 1588265315505,
     "user": {
      "displayName": "Hadelin de Ponteves",
      "photoUrl": "https://lh3.googleusercontent.com/a-/AOh14GhEuXdT7eQweUmRPW8_laJuPggSK6hfvpl5a6WBaA=s64",
      "userId": "15047218817161520419"
     },
     "user_tz": -240
    },
    "id": "e0pFVAmciHQs",
    "outputId": "67f64468-abdb-4fe7-cce9-de0037119610"
   },
   "outputs": [
    {
     "data": {
      "text/plain": [
       "LogisticRegression(random_state=0)"
      ]
     },
     "execution_count": 26,
     "metadata": {},
     "output_type": "execute_result"
    }
   ],
   "source": [
    "from sklearn.linear_model import LogisticRegression\n",
    "classifier = LogisticRegression(random_state = 0)\n",
    "classifier.fit(X_train, y_train)"
   ]
  },
  {
   "cell_type": "markdown",
   "metadata": {
    "colab_type": "text",
    "id": "yyxW5b395mR2"
   },
   "source": [
    "## Predicting a new result"
   ]
  },
  {
   "cell_type": "code",
   "execution_count": 27,
   "metadata": {
    "colab": {
     "base_uri": "https://localhost:8080/",
     "height": 34
    },
    "colab_type": "code",
    "executionInfo": {
     "elapsed": 2118,
     "status": "ok",
     "timestamp": 1588265315505,
     "user": {
      "displayName": "Hadelin de Ponteves",
      "photoUrl": "https://lh3.googleusercontent.com/a-/AOh14GhEuXdT7eQweUmRPW8_laJuPggSK6hfvpl5a6WBaA=s64",
      "userId": "15047218817161520419"
     },
     "user_tz": -240
    },
    "id": "f8YOXsQy58rP",
    "outputId": "2e1b0063-548e-4924-cf3a-93a79d97e35e",
    "scrolled": false
   },
   "outputs": [],
   "source": [
    "#print(classifier.predict(sc.transform([[0,0,0,0,0,1,1,1,0,2,0,1,0,1,2,3,2,0,2,4,3,1,1,0,0,3,4,2,1,1,7,7,2,3,1,2,2]])))"
   ]
  },
  {
   "cell_type": "markdown",
   "metadata": {
    "colab_type": "text",
    "id": "vKYVQH-l5NpE"
   },
   "source": [
    "## Predicting the Test set results"
   ]
  },
  {
   "cell_type": "code",
   "execution_count": 28,
   "metadata": {
    "colab": {
     "base_uri": "https://localhost:8080/",
     "height": 1000
    },
    "colab_type": "code",
    "executionInfo": {
     "elapsed": 2112,
     "status": "ok",
     "timestamp": 1588265315506,
     "user": {
      "displayName": "Hadelin de Ponteves",
      "photoUrl": "https://lh3.googleusercontent.com/a-/AOh14GhEuXdT7eQweUmRPW8_laJuPggSK6hfvpl5a6WBaA=s64",
      "userId": "15047218817161520419"
     },
     "user_tz": -240
    },
    "id": "p6VMTb2O4hwM",
    "outputId": "a4f03a97-2942-45cd-f735-f4063277a96c"
   },
   "outputs": [
    {
     "name": "stdout",
     "output_type": "stream",
     "text": [
      "[[2 1]\n",
      " [1 1]\n",
      " [2 2]\n",
      " [2 2]\n",
      " [2 2]\n",
      " [1 1]\n",
      " [2 2]\n",
      " [1 1]\n",
      " [1 1]\n",
      " [1 1]\n",
      " [2 2]\n",
      " [2 2]\n",
      " [2 2]\n",
      " [1 1]\n",
      " [1 1]\n",
      " [1 1]\n",
      " [2 2]\n",
      " [1 1]\n",
      " [2 2]\n",
      " [2 2]\n",
      " [1 1]\n",
      " [1 1]\n",
      " [2 2]\n",
      " [2 2]\n",
      " [2 2]\n",
      " [1 2]\n",
      " [2 2]\n",
      " [2 2]\n",
      " [2 2]\n",
      " [2 2]\n",
      " [1 1]\n",
      " [2 2]\n",
      " [2 2]\n",
      " [2 2]\n",
      " [2 2]\n",
      " [1 1]\n",
      " [2 2]\n",
      " [2 2]\n",
      " [2 2]\n",
      " [1 1]\n",
      " [1 1]\n",
      " [2 2]\n",
      " [1 1]\n",
      " [2 2]\n",
      " [2 2]\n",
      " [2 2]\n",
      " [2 2]\n",
      " [2 2]\n",
      " [2 2]\n",
      " [2 2]\n",
      " [2 2]\n",
      " [1 1]\n",
      " [1 1]\n",
      " [2 2]\n",
      " [1 1]\n",
      " [2 2]\n",
      " [2 2]\n",
      " [2 2]\n",
      " [2 2]\n",
      " [2 2]\n",
      " [1 1]\n",
      " [1 1]\n",
      " [2 2]\n",
      " [2 2]\n",
      " [2 2]\n",
      " [2 2]\n",
      " [2 2]\n",
      " [2 2]\n",
      " [1 1]\n",
      " [1 1]\n",
      " [2 2]\n",
      " [1 1]\n",
      " [2 2]\n",
      " [1 1]\n",
      " [1 1]\n",
      " [2 2]\n",
      " [2 1]\n",
      " [2 2]\n",
      " [1 1]\n",
      " [1 1]\n",
      " [2 2]\n",
      " [1 1]\n",
      " [1 1]\n",
      " [2 2]\n",
      " [2 2]\n",
      " [2 2]\n",
      " [2 2]\n",
      " [1 1]\n",
      " [2 2]\n",
      " [2 2]\n",
      " [2 2]\n",
      " [1 1]\n",
      " [2 2]\n",
      " [2 2]\n",
      " [2 2]\n",
      " [1 1]\n",
      " [2 2]\n",
      " [1 1]\n",
      " [2 2]\n",
      " [1 1]\n",
      " [2 2]\n",
      " [1 1]\n",
      " [2 2]\n",
      " [2 2]\n",
      " [2 2]\n",
      " [1 1]\n",
      " [2 2]\n",
      " [1 1]\n",
      " [2 2]\n",
      " [1 1]\n",
      " [1 1]\n",
      " [1 1]\n",
      " [2 2]\n",
      " [1 1]\n",
      " [2 2]\n",
      " [2 2]\n",
      " [2 2]\n",
      " [2 2]\n",
      " [2 2]\n",
      " [2 2]\n",
      " [2 2]\n",
      " [1 1]\n",
      " [2 2]\n",
      " [2 2]\n",
      " [1 1]\n",
      " [2 2]\n",
      " [1 1]\n",
      " [2 2]\n",
      " [2 2]\n",
      " [2 2]\n",
      " [1 1]\n",
      " [2 2]\n",
      " [1 1]\n",
      " [1 1]\n",
      " [1 1]\n",
      " [1 1]\n",
      " [1 1]\n",
      " [2 2]\n",
      " [2 1]\n",
      " [2 2]\n",
      " [1 1]\n",
      " [2 2]\n",
      " [1 1]\n",
      " [2 2]\n",
      " [2 2]\n",
      " [1 1]\n",
      " [2 2]\n",
      " [1 1]\n",
      " [1 1]\n",
      " [2 2]\n",
      " [1 1]\n",
      " [2 2]\n",
      " [2 2]\n",
      " [1 1]\n",
      " [1 1]\n",
      " [2 2]\n",
      " [2 2]\n",
      " [1 1]]\n"
     ]
    }
   ],
   "source": [
    "y_pred = classifier.predict(X_test)\n",
    "print(np.concatenate((y_pred.reshape(len(y_pred),1), y_test.reshape(len(y_test),1)),1))"
   ]
  },
  {
   "cell_type": "markdown",
   "metadata": {
    "colab_type": "text",
    "id": "h4Hwj34ziWQW"
   },
   "source": [
    "## Making the Confusion Matrix"
   ]
  },
  {
   "cell_type": "code",
   "execution_count": 29,
   "metadata": {
    "colab": {
     "base_uri": "https://localhost:8080/",
     "height": 68
    },
    "colab_type": "code",
    "executionInfo": {
     "elapsed": 2107,
     "status": "ok",
     "timestamp": 1588265315506,
     "user": {
      "displayName": "Hadelin de Ponteves",
      "photoUrl": "https://lh3.googleusercontent.com/a-/AOh14GhEuXdT7eQweUmRPW8_laJuPggSK6hfvpl5a6WBaA=s64",
      "userId": "15047218817161520419"
     },
     "user_tz": -240
    },
    "id": "D6bpZwUiiXic",
    "outputId": "f202fcb3-5882-4d93-e5df-50791185067e"
   },
   "outputs": [
    {
     "name": "stdout",
     "output_type": "stream",
     "text": [
      "[[60  3]\n",
      " [ 1 94]]\n"
     ]
    },
    {
     "data": {
      "text/plain": [
       "97.0"
      ]
     },
     "execution_count": 29,
     "metadata": {},
     "output_type": "execute_result"
    }
   ],
   "source": [
    "from sklearn.metrics import confusion_matrix, accuracy_score\n",
    "cm = confusion_matrix(y_test, y_pred)\n",
    "print(cm)\n",
    "round(accuracy_score(y_test, y_pred),2)*100"
   ]
  },
  {
   "cell_type": "markdown",
   "metadata": {},
   "source": [
    "### Pickling"
   ]
  },
  {
   "cell_type": "code",
   "execution_count": 30,
   "metadata": {},
   "outputs": [],
   "source": [
    "import pickle\n",
    "filename = \"classification.sav\""
   ]
  },
  {
   "cell_type": "code",
   "execution_count": 31,
   "metadata": {},
   "outputs": [],
   "source": [
    "pickle.dump(classifier, open(filename, \"wb\"))"
   ]
  },
  {
   "cell_type": "code",
   "execution_count": 32,
   "metadata": {},
   "outputs": [],
   "source": [
    "with open(\"classification.sav\", \"rb\") as f:\n",
    "    load_model = pickle.load(f)"
   ]
  },
  {
   "cell_type": "code",
   "execution_count": 33,
   "metadata": {},
   "outputs": [],
   "source": [
    "#test = [[0,0,0,0,0,1,1,1,0,2,0,1,0,1,2,3,2,0,2,4,3,1,1,0,0,3,4,2,1,1,7,7,2,3,1,2,2]]\n",
    "#pred = load_model.predict(test)\n",
    "#print(pred)"
   ]
  }
 ],
 "metadata": {
  "colab": {
   "authorship_tag": "ABX9TyOsvB/iqEjYj3VN6C/JbvkE",
   "collapsed_sections": [],
   "machine_shape": "hm",
   "name": "logistic_regression.ipynb",
   "provenance": [],
   "toc_visible": true
  },
  "kernelspec": {
   "display_name": "Python 3",
   "language": "python",
   "name": "python3"
  },
  "language_info": {
   "codemirror_mode": {
    "name": "ipython",
    "version": 3
   },
   "file_extension": ".py",
   "mimetype": "text/x-python",
   "name": "python",
   "nbconvert_exporter": "python",
   "pygments_lexer": "ipython3",
   "version": "3.8.5"
  }
 },
 "nbformat": 4,
 "nbformat_minor": 1
}
